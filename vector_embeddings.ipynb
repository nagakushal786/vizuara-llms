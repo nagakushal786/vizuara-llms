{
 "cells": [
  {
   "cell_type": "markdown",
   "id": "d2cf0f7e",
   "metadata": {},
   "source": [
    "## Vector Embeddings"
   ]
  },
  {
   "cell_type": "code",
   "execution_count": null,
   "id": "630541da",
   "metadata": {},
   "outputs": [],
   "source": [
    "import gensim.downloader as api # type: ignore"
   ]
  },
  {
   "cell_type": "markdown",
   "id": "95f313a7",
   "metadata": {},
   "source": [
    "We are using the pre-trained vectors of `google news` to just look at how the vector embeddings capture the semantic relationship of the words."
   ]
  },
  {
   "cell_type": "code",
   "execution_count": null,
   "id": "c4037bba",
   "metadata": {},
   "outputs": [],
   "source": [
    "model=api.load(\"word2vec-google-news-300\")"
   ]
  },
  {
   "cell_type": "code",
   "execution_count": null,
   "id": "6ebae84e",
   "metadata": {},
   "outputs": [],
   "source": [
    "word_vectors=model"
   ]
  },
  {
   "cell_type": "code",
   "execution_count": null,
   "id": "1dcf8ed3",
   "metadata": {},
   "outputs": [],
   "source": [
    "print(word_vectors['computer'])"
   ]
  },
  {
   "cell_type": "code",
   "execution_count": null,
   "id": "da87389e",
   "metadata": {},
   "outputs": [],
   "source": [
    "print(word_vectors['cat'].shape)"
   ]
  },
  {
   "cell_type": "markdown",
   "id": "ad4a8ad5",
   "metadata": {},
   "source": [
    "### Similar words"
   ]
  },
  {
   "cell_type": "markdown",
   "id": "f2568a24",
   "metadata": {},
   "source": [
    "#### King + Woman - Man = ?"
   ]
  },
  {
   "cell_type": "code",
   "execution_count": null,
   "id": "d4022d99",
   "metadata": {},
   "outputs": [],
   "source": [
    "print(word_vectors.most_similar(positive=['king', 'woman'],\n",
    "                                negative=['man'], topn=10))"
   ]
  },
  {
   "cell_type": "markdown",
   "id": "5977d3ab",
   "metadata": {},
   "source": [
    "### Similarity between pair of words"
   ]
  },
  {
   "cell_type": "code",
   "execution_count": null,
   "id": "76b9e2e0",
   "metadata": {},
   "outputs": [],
   "source": [
    "print(word_vectors.similarity('woman', 'man'))\n",
    "print(word_vectors.similarity('king', 'queen'))\n",
    "print(word_vectors.similarity('uncle', 'aunt'))\n",
    "print(word_vectors.similarity('boy', 'girl'))\n",
    "print(word_vectors.similarity('nephew', 'niece'))\n",
    "print(word_vectors.similarity('paper', 'water'))"
   ]
  },
  {
   "cell_type": "markdown",
   "id": "3b1d41c1",
   "metadata": {},
   "source": [
    "### Most similar words"
   ]
  },
  {
   "cell_type": "code",
   "execution_count": null,
   "id": "da18882c",
   "metadata": {},
   "outputs": [],
   "source": [
    "print(word_vectors.most_similar('tower', topn=5))"
   ]
  },
  {
   "cell_type": "markdown",
   "id": "a34ab0d9",
   "metadata": {},
   "source": [
    "### Magnitude of difference"
   ]
  },
  {
   "cell_type": "code",
   "execution_count": null,
   "id": "ae8637fa",
   "metadata": {},
   "outputs": [],
   "source": [
    "import numpy as np\n",
    "\n",
    "word1='man'\n",
    "word2='woman'\n",
    "\n",
    "vector_diff=model[word1]-model[word2]\n",
    "\n",
    "# How close the words are in their meaning\n",
    "magnitude_of_diff=np.linalg.norm(vector_diff)\n",
    "\n",
    "print(f\"The magnitude of difference between {word1} and {word2} is {magnitude_of_diff:0.3f}\")"
   ]
  }
 ],
 "metadata": {
  "kernelspec": {
   "display_name": "Python 3",
   "language": "python",
   "name": "python3"
  },
  "language_info": {
   "codemirror_mode": {
    "name": "ipython",
    "version": 3
   },
   "file_extension": ".py",
   "mimetype": "text/x-python",
   "name": "python",
   "nbconvert_exporter": "python",
   "pygments_lexer": "ipython3",
   "version": "3.12.10"
  }
 },
 "nbformat": 4,
 "nbformat_minor": 5
}
